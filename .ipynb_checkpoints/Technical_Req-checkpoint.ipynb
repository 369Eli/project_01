{
 "cells": [
  {
   "cell_type": "markdown",
   "id": "d1dde310-24f4-44ef-adcb-deaae19d784f",
   "metadata": {},
   "source": [
    "# Technical Analysis"
   ]
  },
  {
   "cell_type": "markdown",
   "id": "c86473b3-f426-45c2-a3ed-a1997352b22e",
   "metadata": {},
   "source": [
    "\n",
    "\n",
    "\n",
    " Create a Jupyter Notebook describing the data exploration and cleanup process.\n",
    "     We utilizing pandas for dataframe processing which came from the public assessors office of Los Angeles. The large dataset      meant that we had to extract the most relevant information from each column, known as slicing data. After that we ran          several filters to querry, create, and manipulate the dataframe into a two dimensional array.\n",
    "\n",
    "\n",
    " Create a Jupyter Notebook illustrating the final data analysis.\n",
    "    Please see analysis.ipynb\n",
    "\n",
    " Use PyViz, Panel, Plotly Express, and Hvplot to create six to eight visualizations of your data (ideally, at least two per         question you ask of your data), and then aggregate these visualizations into a dashboard.\n",
    "\n",
    "\n",
    " Save PNG images of your visualizations to distribute to the class and instructional team and for inclusion in your                 presentation and your repo's README.md file.: Please see Images folder.\n",
    "\n",
    "\n",
    " Use one new Python library that hasn't been covered in class.\n",
    "    Streamlit was used for our dashboard. Launch using the app.py file.\n",
    "\n",
    "\n",
    " Create a README.md in your repo with a write-up summarizing your major findings. This should include a heading for each question you asked of your data and under each heading a short description of what you found and any relevant plots.\n",
    "\n",
    "\n"
   ]
  },
  {
   "cell_type": "code",
   "execution_count": null,
   "id": "f4ff9e46-f949-4a3b-8fb2-270621f1def2",
   "metadata": {},
   "outputs": [],
   "source": []
  }
 ],
 "metadata": {
  "kernelspec": {
   "display_name": "Python 3",
   "language": "python",
   "name": "python3"
  },
  "language_info": {
   "codemirror_mode": {
    "name": "ipython",
    "version": 3
   },
   "file_extension": ".py",
   "mimetype": "text/x-python",
   "name": "python",
   "nbconvert_exporter": "python",
   "pygments_lexer": "ipython3",
   "version": "3.8.6"
  }
 },
 "nbformat": 4,
 "nbformat_minor": 5
}
