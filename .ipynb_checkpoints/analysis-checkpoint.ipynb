{
 "cells": [
  {
   "cell_type": "markdown",
   "id": "4044b0b1-09a1-4d50-a352-cafa1df707b9",
   "metadata": {},
   "source": [
    "# Investment Valuation Model: Rental Housing for 2028 Olympics \n"
   ]
  },
  {
   "cell_type": "markdown",
   "id": "fafc70b0-ce0e-4c45-bda9-f4c0a58a51c9",
   "metadata": {},
   "source": [
    "- Q: What are we trying to do?\n",
    "- A: Find undervalued properties near 2028 Olympic venues to purchase and maximize resale value."
   ]
  },
  {
   "cell_type": "markdown",
   "id": "04c9a835-be73-45dd-9452-1e710c489761",
   "metadata": {},
   "source": [
    "## How do we do that?: Goals, tasks, methods of study\n",
    "    A: Client wants to find real estate investment opportunities near sporting venues hosting the 2028 Olymipics. Long Beach, Inglewood, and Calabasas are near by popular cities. We analyze zip codes in the surrounding area to find markets with the highest number of homes for sale to artifically create a buyers market or the market with the greatest inventory to choose from. The three cities were chosen because they represent neighborhoods with different degrees of developement. Inglewood is developing, Long beach is pretty settled, and Calabasas is finalized.    \n",
    "       \n",
    "       Opening ceremonies are planned to be held at the rising Los Angeles Rams stadium in Inglewood, with a simultaneous event at the Los Angeles Memorial Coliseum, tickets for the kickoff of the games are expected to come with an average price tag of $1,783. Closing ceremonies at the Coliseum will be somewhat less, with an average ticket price of $1,226. Therefore target properties criteria:\n",
    "       2 mile radius from venue\n",
    "       Inglewood city = 90304 \n",
    "       Long Beach city = 90712 \n",
    "       3 bedrooms \n",
    "      2 bathroom\n",
    "        \n",
    "\n"
   ]
  },
  {
   "cell_type": "markdown",
   "id": "79057810-f97f-4c6c-9dc1-2716edb7b2c7",
   "metadata": {},
   "source": [
    "# TODO\n",
    "- Pull in the data\n",
    "- filter for the real estate locations\n",
    "    - \n",
    "    - Inglewood\n",
    "    - Long Beach\n",
    "- Whats the average/median home price?\n",
    "\n",
    "\n",
    "data source:"
   ]
  },
  {
   "cell_type": "code",
   "execution_count": 1,
   "id": "7ab03226-61f5-4cfb-8a3d-e84868d0ed99",
   "metadata": {},
   "outputs": [],
   "source": [
    "import pandas as pd"
   ]
  },
  {
   "cell_type": "code",
   "execution_count": 2,
   "id": "a2623a18-ddc1-4cc1-b897-53ee7bfd3ee0",
   "metadata": {},
   "outputs": [
    {
     "ename": "FileNotFoundError",
     "evalue": "[Errno 2] No such file or directory: 'Assessor_Parcel_Data_2020.csv'",
     "output_type": "error",
     "traceback": [
      "\u001b[0;31m---------------------------------------------------------------------------\u001b[0m",
      "\u001b[0;31mFileNotFoundError\u001b[0m                         Traceback (most recent call last)",
      "\u001b[0;32m<ipython-input-2-a5cc08801c7b>\u001b[0m in \u001b[0;36m<module>\u001b[0;34m\u001b[0m\n\u001b[0;32m----> 1\u001b[0;31m \u001b[0mdata\u001b[0m \u001b[0;34m=\u001b[0m \u001b[0mpd\u001b[0m\u001b[0;34m.\u001b[0m\u001b[0mread_csv\u001b[0m\u001b[0;34m(\u001b[0m\u001b[0;34m'Assessor_Parcel_Data_2020.csv'\u001b[0m\u001b[0;34m,\u001b[0m \u001b[0mlow_memory\u001b[0m\u001b[0;34m=\u001b[0m\u001b[0;32mFalse\u001b[0m\u001b[0;34m)\u001b[0m\u001b[0;34m\u001b[0m\u001b[0;34m\u001b[0m\u001b[0m\n\u001b[0m",
      "\u001b[0;32m~/opt/anaconda3/lib/python3.8/site-packages/pandas/io/parsers.py\u001b[0m in \u001b[0;36mread_csv\u001b[0;34m(filepath_or_buffer, sep, delimiter, header, names, index_col, usecols, squeeze, prefix, mangle_dupe_cols, dtype, engine, converters, true_values, false_values, skipinitialspace, skiprows, skipfooter, nrows, na_values, keep_default_na, na_filter, verbose, skip_blank_lines, parse_dates, infer_datetime_format, keep_date_col, date_parser, dayfirst, cache_dates, iterator, chunksize, compression, thousands, decimal, lineterminator, quotechar, quoting, doublequote, escapechar, comment, encoding, dialect, error_bad_lines, warn_bad_lines, delim_whitespace, low_memory, memory_map, float_precision, storage_options)\u001b[0m\n\u001b[1;32m    608\u001b[0m     \u001b[0mkwds\u001b[0m\u001b[0;34m.\u001b[0m\u001b[0mupdate\u001b[0m\u001b[0;34m(\u001b[0m\u001b[0mkwds_defaults\u001b[0m\u001b[0;34m)\u001b[0m\u001b[0;34m\u001b[0m\u001b[0;34m\u001b[0m\u001b[0m\n\u001b[1;32m    609\u001b[0m \u001b[0;34m\u001b[0m\u001b[0m\n\u001b[0;32m--> 610\u001b[0;31m     \u001b[0;32mreturn\u001b[0m \u001b[0m_read\u001b[0m\u001b[0;34m(\u001b[0m\u001b[0mfilepath_or_buffer\u001b[0m\u001b[0;34m,\u001b[0m \u001b[0mkwds\u001b[0m\u001b[0;34m)\u001b[0m\u001b[0;34m\u001b[0m\u001b[0;34m\u001b[0m\u001b[0m\n\u001b[0m\u001b[1;32m    611\u001b[0m \u001b[0;34m\u001b[0m\u001b[0m\n\u001b[1;32m    612\u001b[0m \u001b[0;34m\u001b[0m\u001b[0m\n",
      "\u001b[0;32m~/opt/anaconda3/lib/python3.8/site-packages/pandas/io/parsers.py\u001b[0m in \u001b[0;36m_read\u001b[0;34m(filepath_or_buffer, kwds)\u001b[0m\n\u001b[1;32m    460\u001b[0m \u001b[0;34m\u001b[0m\u001b[0m\n\u001b[1;32m    461\u001b[0m     \u001b[0;31m# Create the parser.\u001b[0m\u001b[0;34m\u001b[0m\u001b[0;34m\u001b[0m\u001b[0;34m\u001b[0m\u001b[0m\n\u001b[0;32m--> 462\u001b[0;31m     \u001b[0mparser\u001b[0m \u001b[0;34m=\u001b[0m \u001b[0mTextFileReader\u001b[0m\u001b[0;34m(\u001b[0m\u001b[0mfilepath_or_buffer\u001b[0m\u001b[0;34m,\u001b[0m \u001b[0;34m**\u001b[0m\u001b[0mkwds\u001b[0m\u001b[0;34m)\u001b[0m\u001b[0;34m\u001b[0m\u001b[0;34m\u001b[0m\u001b[0m\n\u001b[0m\u001b[1;32m    463\u001b[0m \u001b[0;34m\u001b[0m\u001b[0m\n\u001b[1;32m    464\u001b[0m     \u001b[0;32mif\u001b[0m \u001b[0mchunksize\u001b[0m \u001b[0;32mor\u001b[0m \u001b[0miterator\u001b[0m\u001b[0;34m:\u001b[0m\u001b[0;34m\u001b[0m\u001b[0;34m\u001b[0m\u001b[0m\n",
      "\u001b[0;32m~/opt/anaconda3/lib/python3.8/site-packages/pandas/io/parsers.py\u001b[0m in \u001b[0;36m__init__\u001b[0;34m(self, f, engine, **kwds)\u001b[0m\n\u001b[1;32m    817\u001b[0m             \u001b[0mself\u001b[0m\u001b[0;34m.\u001b[0m\u001b[0moptions\u001b[0m\u001b[0;34m[\u001b[0m\u001b[0;34m\"has_index_names\"\u001b[0m\u001b[0;34m]\u001b[0m \u001b[0;34m=\u001b[0m \u001b[0mkwds\u001b[0m\u001b[0;34m[\u001b[0m\u001b[0;34m\"has_index_names\"\u001b[0m\u001b[0;34m]\u001b[0m\u001b[0;34m\u001b[0m\u001b[0;34m\u001b[0m\u001b[0m\n\u001b[1;32m    818\u001b[0m \u001b[0;34m\u001b[0m\u001b[0m\n\u001b[0;32m--> 819\u001b[0;31m         \u001b[0mself\u001b[0m\u001b[0;34m.\u001b[0m\u001b[0m_engine\u001b[0m \u001b[0;34m=\u001b[0m \u001b[0mself\u001b[0m\u001b[0;34m.\u001b[0m\u001b[0m_make_engine\u001b[0m\u001b[0;34m(\u001b[0m\u001b[0mself\u001b[0m\u001b[0;34m.\u001b[0m\u001b[0mengine\u001b[0m\u001b[0;34m)\u001b[0m\u001b[0;34m\u001b[0m\u001b[0;34m\u001b[0m\u001b[0m\n\u001b[0m\u001b[1;32m    820\u001b[0m \u001b[0;34m\u001b[0m\u001b[0m\n\u001b[1;32m    821\u001b[0m     \u001b[0;32mdef\u001b[0m \u001b[0mclose\u001b[0m\u001b[0;34m(\u001b[0m\u001b[0mself\u001b[0m\u001b[0;34m)\u001b[0m\u001b[0;34m:\u001b[0m\u001b[0;34m\u001b[0m\u001b[0;34m\u001b[0m\u001b[0m\n",
      "\u001b[0;32m~/opt/anaconda3/lib/python3.8/site-packages/pandas/io/parsers.py\u001b[0m in \u001b[0;36m_make_engine\u001b[0;34m(self, engine)\u001b[0m\n\u001b[1;32m   1048\u001b[0m             )\n\u001b[1;32m   1049\u001b[0m         \u001b[0;31m# error: Too many arguments for \"ParserBase\"\u001b[0m\u001b[0;34m\u001b[0m\u001b[0;34m\u001b[0m\u001b[0;34m\u001b[0m\u001b[0m\n\u001b[0;32m-> 1050\u001b[0;31m         \u001b[0;32mreturn\u001b[0m \u001b[0mmapping\u001b[0m\u001b[0;34m[\u001b[0m\u001b[0mengine\u001b[0m\u001b[0;34m]\u001b[0m\u001b[0;34m(\u001b[0m\u001b[0mself\u001b[0m\u001b[0;34m.\u001b[0m\u001b[0mf\u001b[0m\u001b[0;34m,\u001b[0m \u001b[0;34m**\u001b[0m\u001b[0mself\u001b[0m\u001b[0;34m.\u001b[0m\u001b[0moptions\u001b[0m\u001b[0;34m)\u001b[0m  \u001b[0;31m# type: ignore[call-arg]\u001b[0m\u001b[0;34m\u001b[0m\u001b[0;34m\u001b[0m\u001b[0m\n\u001b[0m\u001b[1;32m   1051\u001b[0m \u001b[0;34m\u001b[0m\u001b[0m\n\u001b[1;32m   1052\u001b[0m     \u001b[0;32mdef\u001b[0m \u001b[0m_failover_to_python\u001b[0m\u001b[0;34m(\u001b[0m\u001b[0mself\u001b[0m\u001b[0;34m)\u001b[0m\u001b[0;34m:\u001b[0m\u001b[0;34m\u001b[0m\u001b[0;34m\u001b[0m\u001b[0m\n",
      "\u001b[0;32m~/opt/anaconda3/lib/python3.8/site-packages/pandas/io/parsers.py\u001b[0m in \u001b[0;36m__init__\u001b[0;34m(self, src, **kwds)\u001b[0m\n\u001b[1;32m   1865\u001b[0m \u001b[0;34m\u001b[0m\u001b[0m\n\u001b[1;32m   1866\u001b[0m         \u001b[0;31m# open handles\u001b[0m\u001b[0;34m\u001b[0m\u001b[0;34m\u001b[0m\u001b[0;34m\u001b[0m\u001b[0m\n\u001b[0;32m-> 1867\u001b[0;31m         \u001b[0mself\u001b[0m\u001b[0;34m.\u001b[0m\u001b[0m_open_handles\u001b[0m\u001b[0;34m(\u001b[0m\u001b[0msrc\u001b[0m\u001b[0;34m,\u001b[0m \u001b[0mkwds\u001b[0m\u001b[0;34m)\u001b[0m\u001b[0;34m\u001b[0m\u001b[0;34m\u001b[0m\u001b[0m\n\u001b[0m\u001b[1;32m   1868\u001b[0m         \u001b[0;32massert\u001b[0m \u001b[0mself\u001b[0m\u001b[0;34m.\u001b[0m\u001b[0mhandles\u001b[0m \u001b[0;32mis\u001b[0m \u001b[0;32mnot\u001b[0m \u001b[0;32mNone\u001b[0m\u001b[0;34m\u001b[0m\u001b[0;34m\u001b[0m\u001b[0m\n\u001b[1;32m   1869\u001b[0m         \u001b[0;32mfor\u001b[0m \u001b[0mkey\u001b[0m \u001b[0;32min\u001b[0m \u001b[0;34m(\u001b[0m\u001b[0;34m\"storage_options\"\u001b[0m\u001b[0;34m,\u001b[0m \u001b[0;34m\"encoding\"\u001b[0m\u001b[0;34m,\u001b[0m \u001b[0;34m\"memory_map\"\u001b[0m\u001b[0;34m,\u001b[0m \u001b[0;34m\"compression\"\u001b[0m\u001b[0;34m)\u001b[0m\u001b[0;34m:\u001b[0m\u001b[0;34m\u001b[0m\u001b[0;34m\u001b[0m\u001b[0m\n",
      "\u001b[0;32m~/opt/anaconda3/lib/python3.8/site-packages/pandas/io/parsers.py\u001b[0m in \u001b[0;36m_open_handles\u001b[0;34m(self, src, kwds)\u001b[0m\n\u001b[1;32m   1360\u001b[0m         \u001b[0mLet\u001b[0m \u001b[0mthe\u001b[0m \u001b[0mreaders\u001b[0m \u001b[0mopen\u001b[0m \u001b[0mIOHanldes\u001b[0m \u001b[0mafter\u001b[0m \u001b[0mthey\u001b[0m \u001b[0mare\u001b[0m \u001b[0mdone\u001b[0m \u001b[0;32mwith\u001b[0m \u001b[0mtheir\u001b[0m \u001b[0mpotential\u001b[0m \u001b[0mraises\u001b[0m\u001b[0;34m.\u001b[0m\u001b[0;34m\u001b[0m\u001b[0;34m\u001b[0m\u001b[0m\n\u001b[1;32m   1361\u001b[0m         \"\"\"\n\u001b[0;32m-> 1362\u001b[0;31m         self.handles = get_handle(\n\u001b[0m\u001b[1;32m   1363\u001b[0m             \u001b[0msrc\u001b[0m\u001b[0;34m,\u001b[0m\u001b[0;34m\u001b[0m\u001b[0;34m\u001b[0m\u001b[0m\n\u001b[1;32m   1364\u001b[0m             \u001b[0;34m\"r\"\u001b[0m\u001b[0;34m,\u001b[0m\u001b[0;34m\u001b[0m\u001b[0;34m\u001b[0m\u001b[0m\n",
      "\u001b[0;32m~/opt/anaconda3/lib/python3.8/site-packages/pandas/io/common.py\u001b[0m in \u001b[0;36mget_handle\u001b[0;34m(path_or_buf, mode, encoding, compression, memory_map, is_text, errors, storage_options)\u001b[0m\n\u001b[1;32m    640\u001b[0m                 \u001b[0merrors\u001b[0m \u001b[0;34m=\u001b[0m \u001b[0;34m\"replace\"\u001b[0m\u001b[0;34m\u001b[0m\u001b[0;34m\u001b[0m\u001b[0m\n\u001b[1;32m    641\u001b[0m             \u001b[0;31m# Encoding\u001b[0m\u001b[0;34m\u001b[0m\u001b[0;34m\u001b[0m\u001b[0;34m\u001b[0m\u001b[0m\n\u001b[0;32m--> 642\u001b[0;31m             handle = open(\n\u001b[0m\u001b[1;32m    643\u001b[0m                 \u001b[0mhandle\u001b[0m\u001b[0;34m,\u001b[0m\u001b[0;34m\u001b[0m\u001b[0;34m\u001b[0m\u001b[0m\n\u001b[1;32m    644\u001b[0m                 \u001b[0mioargs\u001b[0m\u001b[0;34m.\u001b[0m\u001b[0mmode\u001b[0m\u001b[0;34m,\u001b[0m\u001b[0;34m\u001b[0m\u001b[0;34m\u001b[0m\u001b[0m\n",
      "\u001b[0;31mFileNotFoundError\u001b[0m: [Errno 2] No such file or directory: 'Assessor_Parcel_Data_2020.csv'"
     ]
    }
   ],
   "source": [
    "data = pd.read_csv('Assessor_Parcel_Data_2020.csv', low_memory=False)"
   ]
  },
  {
   "cell_type": "code",
   "execution_count": null,
   "id": "87931792-c97f-4f80-b923-0d799663170e",
   "metadata": {},
   "outputs": [],
   "source": [
    "data.head().T\n",
    "data['house_type'] = data['PropertyType'].replace({'CND': 'Condo', 'SFR': 'Single Family Residence'})\n",
    "data.head().T"
   ]
  },
  {
   "cell_type": "code",
   "execution_count": null,
   "id": "7662c09c-9100-49ec-a3b2-ba4b75f8be84",
   "metadata": {},
   "outputs": [],
   "source": [
    "list(data.columns)"
   ]
  },
  {
   "cell_type": "code",
   "execution_count": null,
   "id": "65978c7f-5013-46f2-ad4e-2e37b4c71e8b",
   "metadata": {},
   "outputs": [],
   "source": [
    "# find the cols I need and make the dataset smaller\n",
    "cols = ['AIN', 'CENTER_LAT','CENTER_LON','TotalValue', 'Bedrooms', 'Bathrooms', 'City', 'ZIPcode5', 'SpecificUseType', 'SQFTmain',  'AssessorID', 'PropertyLocation', 'PropertyType', 'TaxRateArea_CITY', 'YearBuilt','TaxRateArea', 'netTaxableValue', 'house_type']\n",
    "df = data[cols]\n",
    "df"
   ]
  },
  {
   "cell_type": "code",
   "execution_count": null,
   "id": "6d5e0f1d-4aee-48a2-92d6-4e34eb0f9593",
   "metadata": {},
   "outputs": [],
   "source": [
    "# data['TaxRateArea_CITY'].value_counts()[:30]"
   ]
  },
  {
   "cell_type": "code",
   "execution_count": null,
   "id": "ffe6900a-da27-46df-984e-cd8df1c68f75",
   "metadata": {},
   "outputs": [],
   "source": [
    "# filter for the areas we want\n",
    "\n",
    "olympic_areas = ['LONG BEACH', 'INGLEWOOD']\n",
    "filtered_df = df[df['TaxRateArea_CITY'].isin(olympic_areas)]\n",
    "\n",
    "# condition of dataframe for 3 bedrooms \n",
    "filtered_df = filtered_df[filtered_df['Bedrooms'] == 3]\n",
    "\n",
    "# year built \n",
    "filtered_df = filtered_df[(filtered_df['YearBuilt'] >= 1965) & (filtered_df['YearBuilt'] <= 1975)]\n",
    "\n",
    "# Singlefamily residence Specific Use Type \n",
    "filtered_df = filtered_df[filtered_df['SpecificUseType'].isin(['Single Family Residence', 'Condo'])]\n",
    "\n",
    "\n",
    "# Bathroom\n",
    "filtered_df = filtered_df[filtered_df['Bathrooms'] >= 2]\n",
    "\n",
    "# Price range\n",
    "filtered_df = filtered_df[(filtered_df['TotalValue'] >= 384000) & (filtered_df['TotalValue'] <= 800000)]\n",
    "\n",
    "# Price per square foot \n",
    "filtered_df['pricepersqft'] = filtered_df['TotalValue']/filtered_df['SQFTmain']            \n",
    "filtered_df"
   ]
  },
  {
   "cell_type": "code",
   "execution_count": null,
   "id": "13a785de-6fee-4c7c-8731-a51114b81aa1",
   "metadata": {
    "jupyter": {
     "source_hidden": true
    },
    "tags": []
   },
   "outputs": [],
   "source": [
    "filtered_df = filtered_df.sort_values(by='pricepersqft', ascending=False)\n",
    "filtered_df.head(25)\n",
    "# result = df.sort(['A', 'B'], ascending=[1, 0])"
   ]
  },
  {
   "cell_type": "code",
   "execution_count": null,
   "id": "afb97ff6-a5e5-4770-8768-0dacc014dbe1",
   "metadata": {},
   "outputs": [],
   "source": [
    "filtered_df['City'].value_counts()"
   ]
  },
  {
   "cell_type": "code",
   "execution_count": null,
   "id": "9e8a9388-7194-4e5c-9a09-f9a8b1d5e6d0",
   "metadata": {},
   "outputs": [],
   "source": [
    "filtered_df.dtypes"
   ]
  },
  {
   "cell_type": "code",
   "execution_count": null,
   "id": "92b21ad9-50b7-4cdf-9a74-aff88ac4c181",
   "metadata": {},
   "outputs": [],
   "source": [
    "filtered_df['ZIPcode5'] = filtered_df['ZIPcode5'].astype('int')"
   ]
  },
  {
   "cell_type": "code",
   "execution_count": null,
   "id": "8b72811d-b054-40b7-85ac-07440b0910ba",
   "metadata": {},
   "outputs": [],
   "source": [
    "filtered_df.info()\n",
    "filtered_df.head()"
   ]
  },
  {
   "cell_type": "code",
   "execution_count": null,
   "id": "8273518a-bc47-4390-9395-58117190e4b7",
   "metadata": {},
   "outputs": [],
   "source": [
    "filtered_df['City'].value_counts().plot(kind='bar')"
   ]
  },
  {
   "cell_type": "code",
   "execution_count": null,
   "id": "c6c3c355-903f-44f6-83ae-0201de6c38eb",
   "metadata": {},
   "outputs": [],
   "source": [
    "filtered_df.boxplot(column=['netTaxableValue'])"
   ]
  },
  {
   "cell_type": "code",
   "execution_count": null,
   "id": "7d6a184c-7373-4967-85f3-05abf102cba9",
   "metadata": {},
   "outputs": [],
   "source": [
    "filtered_df.columns"
   ]
  },
  {
   "cell_type": "code",
   "execution_count": null,
   "id": "d7a30262-7fd0-449c-9b0b-8043d4871a0c",
   "metadata": {},
   "outputs": [],
   "source": [
    "# Analysis of SFR vs CND in area\n",
    "import matplotlib.pyplot as plt\n",
    "fig = filtered_df['PropertyType'].value_counts().plot(kind='bar').get_figure()\n",
    "\n",
    "fig.savefig('propertytypes.jpg')"
   ]
  },
  {
   "cell_type": "code",
   "execution_count": null,
   "id": "b3a50849-1d17-4d2a-8cde-3c7e91d465d3",
   "metadata": {},
   "outputs": [],
   "source": [
    "fig = filtered_df.boxplot(column=['netTaxableValue']).get_figure()\n",
    "fig.savefig('anotherimage.jpg')"
   ]
  },
  {
   "cell_type": "code",
   "execution_count": null,
   "id": "cfc4d8fd-901c-42cf-87a3-28f5ef103966",
   "metadata": {},
   "outputs": [],
   "source": [
    "filtered_df['PropertyType'].value_counts().plot(kind='bar')"
   ]
  },
  {
   "cell_type": "code",
   "execution_count": null,
   "id": "99f31145-9480-4b37-9dcf-5ea51d1c2758",
   "metadata": {},
   "outputs": [],
   "source": [
    "filtered_df['ZIPcode5'].value_counts()"
   ]
  },
  {
   "cell_type": "code",
   "execution_count": null,
   "id": "4af6a638-4c63-4406-830f-1d956acc87e9",
   "metadata": {},
   "outputs": [],
   "source": [
    "# Boolean Conditional requesting optimal square footage\n",
    "mask_filter=filtered_df['SQFTmain'].between(1100,1500)\n",
    "final_df = filtered_df[mask_filter]"
   ]
  },
  {
   "cell_type": "code",
   "execution_count": null,
   "id": "1a3997fb-7966-4466-b5d5-c89963f6ad72",
   "metadata": {},
   "outputs": [],
   "source": [
    "# Final data for analysis adding parameter to the function \n",
    "final_df.to_csv('data.csv', index=False) "
   ]
  },
  {
   "cell_type": "code",
   "execution_count": null,
   "id": "b3f3340e-1f15-4ab3-9718-19ee869a9c39",
   "metadata": {},
   "outputs": [],
   "source": [
    "filtered_df['SpecificUseType'].value_counts()"
   ]
  },
  {
   "cell_type": "code",
   "execution_count": null,
   "id": "70882286-7713-4a50-904d-84cbf6031c02",
   "metadata": {},
   "outputs": [],
   "source": [
    "data['PropertyType'].value_counts()[:20]"
   ]
  },
  {
   "cell_type": "code",
   "execution_count": null,
   "id": "d01c0ca5-5df8-4df3-9506-4e2385bbf74a",
   "metadata": {},
   "outputs": [],
   "source": [
    "final_df.T"
   ]
  },
  {
   "cell_type": "code",
   "execution_count": null,
   "id": "0f8053be-1a17-4e64-a791-d4c36063d5bf",
   "metadata": {},
   "outputs": [],
   "source": [
    "streamlit run app.py"
   ]
  },
  {
   "cell_type": "code",
   "execution_count": null,
   "id": "3d03f546-72e0-4fd3-b60a-80be49386393",
   "metadata": {},
   "outputs": [],
   "source": []
  }
 ],
 "metadata": {
  "kernelspec": {
   "display_name": "Python 3",
   "language": "python",
   "name": "python3"
  },
  "language_info": {
   "codemirror_mode": {
    "name": "ipython",
    "version": 3
   },
   "file_extension": ".py",
   "mimetype": "text/x-python",
   "name": "python",
   "nbconvert_exporter": "python",
   "pygments_lexer": "ipython3",
   "version": "3.8.6"
  }
 },
 "nbformat": 4,
 "nbformat_minor": 5
}
